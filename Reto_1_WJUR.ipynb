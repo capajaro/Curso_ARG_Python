# -*- coding: utf-8 -*-
"""
Created on Thu Jul 15 02:01:01 2021

@author: HP User
"""

import pandas as pd
import matplotlib.pyplot as plt

#Wine quality - red
datos = pd.read_csv('winequality-red.csv', delimiter=';')
df = pd.DataFrame(datos)

columnas = len(df.columns)

red_wine = [0]*columnas

for i in range (columnas):
    red_wine [i] = round(df.iloc[:,i].mean(),2)
    
#Wine quality - white
datos2 = pd.read_csv('winequality-white.csv', delimiter=';')
df2 = pd.DataFrame(datos2)

columnas2 = len(df2.columns)

white_wine = [0]*columnas2

for i in range (columnas2):
    white_wine [i] = round(df2.iloc[:,i].mean(),2)

index = df.columns
print(index)
print(red_wine)
print(white_wine)

#Scatter plot red wine
plt.scatter(df['alcohol'],df['pH'], color='k')
plt.title('Scatter plot: Red Wine')
plt.ylabel('pH')
plt.xlabel('alcohol')
plt.show()

#Scatter plot white wine
plt.scatter(df2['alcohol'],df2['pH'], color='g')
plt.title('Scatter plot: White Wine alcohol vs pH')
plt.ylabel('pH')
plt.xlabel('alcohol')
plt.show()

#Comparación de medias de los datasets para cada variable
s = 5
plt.bar(index, height= white_wine, width=0.5, label = 'White wine')
plt.bar(index, height= red_wine, width=0.5, label = 'red wine')
plt.legend()
plt.ylabel('Medias')
