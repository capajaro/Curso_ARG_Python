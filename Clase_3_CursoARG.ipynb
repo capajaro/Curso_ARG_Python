{
  "nbformat": 4,
  "nbformat_minor": 0,
  "metadata": {
    "colab": {
      "name": "Clase 3 CursoARG.ipynb",
      "provenance": [],
      "authorship_tag": "ABX9TyOTZueIWUSWLjAxR39tRZr6",
      "include_colab_link": true
    },
    "kernelspec": {
      "name": "python3",
      "display_name": "Python 3"
    },
    "language_info": {
      "name": "python"
    }
  },
  "cells": [
    {
      "cell_type": "markdown",
      "metadata": {
        "id": "view-in-github",
        "colab_type": "text"
      },
      "source": [
        "<a href=\"https://colab.research.google.com/github/capajaro/Curso_ARG_Python/blob/main/Clase_3_CursoARG.ipynb\" target=\"_parent\"><img src=\"https://colab.research.google.com/assets/colab-badge.svg\" alt=\"Open In Colab\"/></a>"
      ]
    },
    {
      "cell_type": "code",
      "metadata": {
        "colab": {
          "base_uri": "https://localhost:8080/"
        },
        "id": "0gTRnnwmixPB",
        "outputId": "32277fa4-d5b9-435e-ee0a-030d62fe05cd"
      },
      "source": [
        "import pandas as pd\n",
        "import numpy as np\n",
        "\n",
        "import seaborn as sns\n",
        "import matplotlib.pyplot as plt\n",
        "import statsmodels.api as sm"
      ],
      "execution_count": 25,
      "outputs": [
        {
          "output_type": "stream",
          "text": [
            "/usr/local/lib/python3.7/dist-packages/statsmodels/tools/_testing.py:19: FutureWarning: pandas.util.testing is deprecated. Use the functions in the public API at pandas.testing instead.\n",
            "  import pandas.util.testing as tm\n"
          ],
          "name": "stderr"
        }
      ]
    },
    {
      "cell_type": "code",
      "metadata": {
        "id": "Jw6WR3qgjKEw"
      },
      "source": [
        "Df_1 = pd.read_csv('https://raw.githubusercontent.com/capajaro/Curso_ARG_Python/main/Df_1.csv')\n",
        "Df_2 = pd.read_csv('https://raw.githubusercontent.com/capajaro/Curso_ARG_Python/main/Df_2.csv')\n",
        "Df_3 = pd.read_csv('https://raw.githubusercontent.com/capajaro/Curso_ARG_Python/main/Df_3.csv')\n",
        "Df_4 = pd.read_csv('https://raw.githubusercontent.com/capajaro/Curso_ARG_Python/main/Df_4.csv')\n",
        "\n",
        "DF_All = pd.DataFrame(data = Df_1.values, columns = ['x','y1'])\n",
        "DF_All['y2'] = Df_2.y.values\n",
        "DF_All['y3'] = Df_3.y.values\n",
        "DF_All['y4'] = Df_4.y.values"
      ],
      "execution_count": 20,
      "outputs": []
    },
    {
      "cell_type": "code",
      "metadata": {
        "colab": {
          "base_uri": "https://localhost:8080/"
        },
        "id": "ligEc6r2mMHv",
        "outputId": "f6a78e55-2633-4b24-f80d-327a55f3e67f"
      },
      "source": [
        "print('Comparación Variables \"y\" para cada Dataframe')\n",
        "print(DF_All[['y1','y2','y3','y4']].describe())"
      ],
      "execution_count": 23,
      "outputs": [
        {
          "output_type": "stream",
          "text": [
            "Comparación Variables \"y\" para cada Dataframe\n",
            "              y1         y2         y3         y4\n",
            "count  11.000000  11.000000  11.000000  11.000000\n",
            "mean    7.500909   7.500909   7.500000   7.500909\n",
            "std     2.031568   2.031657   2.030424   2.030579\n",
            "min     4.260000   3.100000   5.390000   5.250000\n",
            "25%     6.315000   6.695000   6.250000   6.170000\n",
            "50%     7.580000   8.140000   7.110000   7.040000\n",
            "75%     8.570000   8.950000   7.980000   8.190000\n",
            "max    10.840000   9.260000  12.740000  12.500000\n"
          ],
          "name": "stdout"
        }
      ]
    },
    {
      "cell_type": "code",
      "metadata": {
        "colab": {
          "base_uri": "https://localhost:8080/"
        },
        "id": "DRP9jGEzn31o",
        "outputId": "89e656a1-aa47-4775-ff21-26f1d5b333bc"
      },
      "source": [
        "X = sm.add_constant(Df_1.x)\n",
        "mod = sm.OLS(Df_1.y, X)\n",
        "fit_model = mod.fit()\n",
        "\n",
        "print('$R^2 Modelo: %0.3f'%(fit_model.rsquared))"
      ],
      "execution_count": 37,
      "outputs": [
        {
          "output_type": "stream",
          "text": [
            "0.666542459508775\n"
          ],
          "name": "stdout"
        }
      ]
    }
  ]
}