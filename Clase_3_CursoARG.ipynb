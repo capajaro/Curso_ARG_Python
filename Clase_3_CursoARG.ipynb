{
  "nbformat": 4,
  "nbformat_minor": 0,
  "metadata": {
    "colab": {
      "name": "Clase 3 CursoARG.ipynb",
      "provenance": [],
      "authorship_tag": "ABX9TyN1PWWFqkKzHX/Bc4pd57WP",
      "include_colab_link": true
    },
    "kernelspec": {
      "name": "python3",
      "display_name": "Python 3"
    },
    "language_info": {
      "name": "python"
    }
  },
  "cells": [
    {
      "cell_type": "markdown",
      "metadata": {
        "id": "view-in-github",
        "colab_type": "text"
      },
      "source": [
        "<a href=\"https://colab.research.google.com/github/capajaro/Curso_ARG_Python/blob/main/Clase_3_CursoARG.ipynb\" target=\"_parent\"><img src=\"https://colab.research.google.com/assets/colab-badge.svg\" alt=\"Open In Colab\"/></a>"
      ]
    },
    {
      "cell_type": "code",
      "metadata": {
        "id": "0gTRnnwmixPB"
      },
      "source": [
        "import pandas as pd\n",
        "import numpy as np\n",
        "from IPython.display import display, Latex\n",
        "\n",
        "import seaborn as sns\n",
        "import matplotlib.pyplot as plt\n",
        "import statsmodels.api as sm"
      ],
      "execution_count": 41,
      "outputs": []
    },
    {
      "cell_type": "markdown",
      "metadata": {
        "id": "2LCEfi7u2YPL"
      },
      "source": [
        "[El Cuarteto de Anscombe](https://en.wikipedia.org/wiki/Anscombe%27s_quartet)"
      ]
    },
    {
      "cell_type": "code",
      "metadata": {
        "id": "Jw6WR3qgjKEw"
      },
      "source": [
        "Df_1 = pd.read_csv('https://raw.githubusercontent.com/capajaro/Curso_ARG_Python/main/Df_1.csv')\n",
        "Df_2 = pd.read_csv('https://raw.githubusercontent.com/capajaro/Curso_ARG_Python/main/Df_2.csv')\n",
        "Df_3 = pd.read_csv('https://raw.githubusercontent.com/capajaro/Curso_ARG_Python/main/Df_3.csv')\n",
        "Df_4 = pd.read_csv('https://raw.githubusercontent.com/capajaro/Curso_ARG_Python/main/Df_4.csv')\n",
        "\n",
        "DF_All = pd.DataFrame(data = Df_1.values, columns = ['x','y1'])\n",
        "DF_All['y2'] = Df_2.y.values\n",
        "DF_All['y3'] = Df_3.y.values\n",
        "DF_All['y4'] = Df_4.y.values"
      ],
      "execution_count": 42,
      "outputs": []
    },
    {
      "cell_type": "code",
      "metadata": {
        "colab": {
          "base_uri": "https://localhost:8080/"
        },
        "id": "ligEc6r2mMHv",
        "outputId": "c8e47f21-8862-4864-df2c-f77ac5357281"
      },
      "source": [
        "print('Comparación Variables \"y\" para cada Dataframe')\n",
        "print(DF_All[['y1','y2','y3','y4']].describe())"
      ],
      "execution_count": 43,
      "outputs": [
        {
          "output_type": "stream",
          "text": [
            "Comparación Variables \"y\" para cada Dataframe\n",
            "              y1         y2         y3         y4\n",
            "count  11.000000  11.000000  11.000000  11.000000\n",
            "mean    7.500909   7.500909   7.500000   7.500909\n",
            "std     2.031568   2.031657   2.030424   2.030579\n",
            "min     4.260000   3.100000   5.390000   5.250000\n",
            "25%     6.315000   6.695000   6.250000   6.170000\n",
            "50%     7.580000   8.140000   7.110000   7.040000\n",
            "75%     8.570000   8.950000   7.980000   8.190000\n",
            "max    10.840000   9.260000  12.740000  12.500000\n"
          ],
          "name": "stdout"
        }
      ]
    },
    {
      "cell_type": "code",
      "metadata": {
        "id": "DRP9jGEzn31o"
      },
      "source": [
        "X_1 = sm.add_constant(Df_1.x)\n",
        "mod_1 = sm.OLS(Df_1.y, X)\n",
        "fit_model_1 = mod_1.fit()\n",
        "\n",
        "Intercept_1 = '%0.2f'%(fit_model_1.params.const)\n",
        "Slope_1 = '%0.2f'%(fit_model_1.params.x)\n",
        "R2_1 = '%0.2f'%(fit_model_1.rsquared)\n",
        "\n",
        "X_2 = sm.add_constant(Df_2.x)\n",
        "mod_2 = sm.OLS(Df_2.y, X)\n",
        "fit_model_2 = mod_2.fit()\n",
        "\n",
        "Intercept_2 = '%0.2f'%(fit_model_2.params.const)\n",
        "Slope_2 = '%0.2f'%(fit_model_2.params.x)\n",
        "R2_2 = '%0.2f'%(fit_model_2.rsquared)\n",
        "\n",
        "X_3 = sm.add_constant(Df_3.x)\n",
        "mod_3 = sm.OLS(Df_3.y, X)\n",
        "fit_model_3 = mod_3.fit()\n",
        "\n",
        "Intercept_3 = '%0.2f'%(fit_model_3.params.const)\n",
        "Slope_3 = '%0.2f'%(fit_model_3.params.x)\n",
        "R2_3 = '%0.2f'%(fit_model_3.rsquared)\n",
        "\n",
        "X_4 = sm.add_constant(Df_4.x)\n",
        "mod_4 = sm.OLS(Df_4.y, X)\n",
        "fit_model_4 = mod_4.fit()\n",
        "\n",
        "Intercept_4 = '%0.2f'%(fit_model_4.params.const)\n",
        "Slope_4 = '%0.2f'%(fit_model_4.params.x)\n",
        "R2_4 = '%0.2f'%(fit_model_4.rsquared)\n"
      ],
      "execution_count": 87,
      "outputs": []
    },
    {
      "cell_type": "code",
      "metadata": {
        "colab": {
          "base_uri": "https://localhost:8080/",
          "height": 530
        },
        "id": "VMeNUrGpscYS",
        "outputId": "1d5c4c59-4742-4ffa-9690-74d9feb83f87"
      },
      "source": [
        "print('*'*50)\n",
        "print('Modelo para DataFrame 1')\n",
        "display(Latex('y = {\\\\bf \\\\theta_0} + {\\\\bf \\\\theta_1}\\cdot{\\\\bf X} '))\n",
        "display(Latex('{\\\\bf \\\\theta_1} =' + Intercept_1))\n",
        "display(Latex('{\\\\bf \\\\theta_1} =' + Slope_1))\n",
        "display(Latex('{R^2} ='+ R2_1))\n",
        "\n",
        "print('*'*50)\n",
        "print('Modelo para DataFrame 2')\n",
        "display(Latex('y = {\\\\bf \\\\theta_0} + {\\\\bf \\\\theta_1}\\cdot{\\\\bf X} '))\n",
        "display(Latex('{\\\\bf \\\\theta_1} =' + Intercept_2))\n",
        "display(Latex('{\\\\bf \\\\theta_1} =' + Slope_2))\n",
        "display(Latex('{R^2} ='+ R2_2))\n",
        "\n",
        "print('*'*50)\n",
        "print('Modelo para DataFrame 3')\n",
        "display(Latex('y = {\\\\bf \\\\theta_0} + {\\\\bf \\\\theta_1}\\cdot{\\\\bf X} '))\n",
        "display(Latex('{\\\\bf \\\\theta_1} =' + Intercept_3))\n",
        "display(Latex('{\\\\bf \\\\theta_1} =' + Slope_3))\n",
        "display(Latex('{R^2} ='+ R2_3))\n",
        "\n",
        "print('*'*50)\n",
        "print('Modelo para DataFrame 4')\n",
        "display(Latex('y = {\\\\bf \\\\theta_0} + {\\\\bf \\\\theta_1}\\cdot{\\\\bf X} '))\n",
        "display(Latex('{\\\\bf \\\\theta_1} =' + Intercept_4))\n",
        "display(Latex('{\\\\bf \\\\theta_1} =' + Slope_4))\n",
        "display(Latex('{R^2} ='+ R2_4))\n",
        "print('*'*50)\n"
      ],
      "execution_count": 88,
      "outputs": [
        {
          "output_type": "stream",
          "text": [
            "**************************************************\n",
            "Modelo para DataFrame 1\n"
          ],
          "name": "stdout"
        },
        {
          "output_type": "display_data",
          "data": {
            "text/latex": "y = {\\bf \\theta_0} + {\\bf \\theta_1}\\cdot{\\bf X} ",
            "text/plain": [
              "<IPython.core.display.Latex object>"
            ]
          },
          "metadata": {
            "tags": []
          }
        },
        {
          "output_type": "display_data",
          "data": {
            "text/latex": "{\\bf \\theta_1} =3.00",
            "text/plain": [
              "<IPython.core.display.Latex object>"
            ]
          },
          "metadata": {
            "tags": []
          }
        },
        {
          "output_type": "display_data",
          "data": {
            "text/latex": "{\\bf \\theta_1} =0.50",
            "text/plain": [
              "<IPython.core.display.Latex object>"
            ]
          },
          "metadata": {
            "tags": []
          }
        },
        {
          "output_type": "display_data",
          "data": {
            "text/latex": "{R^2} =0.67",
            "text/plain": [
              "<IPython.core.display.Latex object>"
            ]
          },
          "metadata": {
            "tags": []
          }
        },
        {
          "output_type": "stream",
          "text": [
            "**************************************************\n",
            "Modelo para DataFrame 2\n"
          ],
          "name": "stdout"
        },
        {
          "output_type": "display_data",
          "data": {
            "text/latex": "y = {\\bf \\theta_0} + {\\bf \\theta_1}\\cdot{\\bf X} ",
            "text/plain": [
              "<IPython.core.display.Latex object>"
            ]
          },
          "metadata": {
            "tags": []
          }
        },
        {
          "output_type": "display_data",
          "data": {
            "text/latex": "{\\bf \\theta_1} =3.00",
            "text/plain": [
              "<IPython.core.display.Latex object>"
            ]
          },
          "metadata": {
            "tags": []
          }
        },
        {
          "output_type": "display_data",
          "data": {
            "text/latex": "{\\bf \\theta_1} =0.50",
            "text/plain": [
              "<IPython.core.display.Latex object>"
            ]
          },
          "metadata": {
            "tags": []
          }
        },
        {
          "output_type": "display_data",
          "data": {
            "text/latex": "{R^2} =0.67",
            "text/plain": [
              "<IPython.core.display.Latex object>"
            ]
          },
          "metadata": {
            "tags": []
          }
        },
        {
          "output_type": "stream",
          "text": [
            "**************************************************\n",
            "Modelo para DataFrame 3\n"
          ],
          "name": "stdout"
        },
        {
          "output_type": "display_data",
          "data": {
            "text/latex": "y = {\\bf \\theta_0} + {\\bf \\theta_1}\\cdot{\\bf X} ",
            "text/plain": [
              "<IPython.core.display.Latex object>"
            ]
          },
          "metadata": {
            "tags": []
          }
        },
        {
          "output_type": "display_data",
          "data": {
            "text/latex": "{\\bf \\theta_1} =3.00",
            "text/plain": [
              "<IPython.core.display.Latex object>"
            ]
          },
          "metadata": {
            "tags": []
          }
        },
        {
          "output_type": "display_data",
          "data": {
            "text/latex": "{\\bf \\theta_1} =0.50",
            "text/plain": [
              "<IPython.core.display.Latex object>"
            ]
          },
          "metadata": {
            "tags": []
          }
        },
        {
          "output_type": "display_data",
          "data": {
            "text/latex": "{R^2} =0.67",
            "text/plain": [
              "<IPython.core.display.Latex object>"
            ]
          },
          "metadata": {
            "tags": []
          }
        },
        {
          "output_type": "stream",
          "text": [
            "**************************************************\n",
            "Modelo para DataFrame 4\n"
          ],
          "name": "stdout"
        },
        {
          "output_type": "display_data",
          "data": {
            "text/latex": "y = {\\bf \\theta_0} + {\\bf \\theta_1}\\cdot{\\bf X} ",
            "text/plain": [
              "<IPython.core.display.Latex object>"
            ]
          },
          "metadata": {
            "tags": []
          }
        },
        {
          "output_type": "display_data",
          "data": {
            "text/latex": "{\\bf \\theta_1} =9.23",
            "text/plain": [
              "<IPython.core.display.Latex object>"
            ]
          },
          "metadata": {
            "tags": []
          }
        },
        {
          "output_type": "display_data",
          "data": {
            "text/latex": "{\\bf \\theta_1} =-0.19",
            "text/plain": [
              "<IPython.core.display.Latex object>"
            ]
          },
          "metadata": {
            "tags": []
          }
        },
        {
          "output_type": "display_data",
          "data": {
            "text/latex": "{R^2} =0.10",
            "text/plain": [
              "<IPython.core.display.Latex object>"
            ]
          },
          "metadata": {
            "tags": []
          }
        },
        {
          "output_type": "stream",
          "text": [
            "**************************************************\n"
          ],
          "name": "stdout"
        }
      ]
    },
    {
      "cell_type": "markdown",
      "metadata": {
        "id": "WAA0h5BUvTpW"
      },
      "source": [
        "# Visualización"
      ]
    },
    {
      "cell_type": "code",
      "metadata": {
        "colab": {
          "base_uri": "https://localhost:8080/",
          "height": 433
        },
        "id": "rnTltw1JvVRy",
        "outputId": "42bc3e32-ba97-4299-dfc1-2658de4798f4"
      },
      "source": [
        "plt.figure(figsize=(6.5,6.5))\n",
        "plt.subplot(2,2,1)\n",
        "#plt.plot(DF_All.x, DF_All['y1'], 'o')\n",
        "sns.regplot(x= DF_All.x, y = DF_All['y1'], label= '$R^2$ = %s'%(R2_1))\n",
        "plt.legend()\n",
        "plt.ylim((0,15))\n",
        "plt.subplot(2,2,2)\n",
        "sns.regplot(x= DF_All.x, y = DF_All['y2'], label= '$R^2$ = %s'%(R2_2))\n",
        "plt.ylim((0,15))\n",
        "plt.legend()\n",
        "plt.subplot(2,2,3)\n",
        "sns.regplot(x= DF_All.x, y = DF_All['y3'], label= '$R^2$ = %s'%(R2_3))\n",
        "plt.ylim((0,15))\n",
        "plt.legend()\n",
        "plt.subplot(2,2,4)\n",
        "sns.regplot(x= DF_All.x, y = DF_All['y4'], label= '$R^2$ = %s'%(R2_4))\n",
        "plt.ylim((0,15))\n",
        "plt.legend()"
      ],
      "execution_count": 89,
      "outputs": [
        {
          "output_type": "execute_result",
          "data": {
            "text/plain": [
              "<matplotlib.legend.Legend at 0x7f730992df10>"
            ]
          },
          "metadata": {
            "tags": []
          },
          "execution_count": 89
        },
        {
          "output_type": "display_data",
          "data": {
            "image/png": "[encoded data removed]",
            "text/plain": [
              "<Figure size 468x468 with 4 Axes>"
            ]
          },
          "metadata": {
            "tags": [],
            "needs_background": "light"
          }
        }
      ]
    }
  ]
}