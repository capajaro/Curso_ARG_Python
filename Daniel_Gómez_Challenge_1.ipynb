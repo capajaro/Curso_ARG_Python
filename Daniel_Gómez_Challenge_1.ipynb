{
  "nbformat": 4,
  "nbformat_minor": 0,
  "metadata": {
    "colab": {
      "name": "Untitled1.ipynb",
      "provenance": [],
      "authorship_tag": "ABX9TyMp9X8B3sgt57HQYW5K0oxY",
      "include_colab_link": true
    },
    "kernelspec": {
      "name": "python3",
      "display_name": "Python 3"
    },
    "language_info": {
      "name": "python"
    }
  },
  "cells": [
    {
      "cell_type": "markdown",
      "metadata": {
        "id": "view-in-github",
        "colab_type": "text"
      },
      "source": [
        "<a href=\"https://colab.research.google.com/github/capajaro/Curso_ARG_Python/blob/main/Daniel_G%C3%B3mez_Challenge_1.ipynb\" target=\"_parent\"><img src=\"https://colab.research.google.com/assets/colab-badge.svg\" alt=\"Open In Colab\"/></a>"
      ]
    },
    {
      "cell_type": "markdown",
      "metadata": {
        "id": "ho2J68plKeug"
      },
      "source": [
        "Challenge_1: Scatter plot"
      ]
    },
    {
      "cell_type": "markdown",
      "metadata": {
        "id": "f2zXKn7qQP-q"
      },
      "source": [
        "Author: Daniel Gómez"
      ]
    },
    {
      "cell_type": "markdown",
      "metadata": {
        "id": "tLpmJ7iQKnN_"
      },
      "source": [
        "Import Packages"
      ]
    },
    {
      "cell_type": "code",
      "metadata": {
        "id": "xQ7Cw_c35xpP"
      },
      "source": [
        "import pandas as pd\n",
        "import matplotlib.pyplot as plt\n",
        "import numpy as np\n",
        "import seaborn as sns\n"
      ],
      "execution_count": 24,
      "outputs": []
    },
    {
      "cell_type": "markdown",
      "metadata": {
        "id": "i6ydTQv0Kpyv"
      },
      "source": [
        "Import csv files and\n",
        "Calculate mean"
      ]
    },
    {
      "cell_type": "code",
      "metadata": {
        "id": "jjnlud1uC2V-"
      },
      "source": [
        "red = pd.read_csv('https://raw.githubusercontent.com/capajaro/Curso_ARG_Python/main/winequality-red.csv', delimiter=';')\n",
        "white = pd.read_csv('https://raw.githubusercontent.com/capajaro/Curso_ARG_Python/main/winequality-white.csv', delimiter=';')"
      ],
      "execution_count": 26,
      "outputs": []
    },
    {
      "cell_type": "code",
      "metadata": {
        "colab": {
          "base_uri": "https://localhost:8080/",
          "height": 418
        },
        "id": "WoK4sS9xDZ41",
        "outputId": "38ba7ee8-7755-4761-b63e-24014a6de938"
      },
      "source": [
        "# With aims to review what are the numeric columns we just type the Dataframe and choose the right datas\n",
        "red"
      ],
      "execution_count": 27,
      "outputs": [
        {
          "output_type": "execute_result",
          "data": {
            "text/html": [
              "<div>\n",
              "<style scoped>\n",
              "    .dataframe tbody tr th:only-of-type {\n",
              "        vertical-align: middle;\n",
              "    }\n",
              "\n",
              "    .dataframe tbody tr th {\n",
              "        vertical-align: top;\n",
              "    }\n",
              "\n",
              "    .dataframe thead th {\n",
              "        text-align: right;\n",
              "    }\n",
              "</style>\n",
              "<table border=\"1\" class=\"dataframe\">\n",
              "  <thead>\n",
              "    <tr style=\"text-align: right;\">\n",
              "      <th></th>\n",
              "      <th>fixed acidity</th>\n",
              "      <th>volatile acidity</th>\n",
              "      <th>citric acid</th>\n",
              "      <th>residual sugar</th>\n",
              "      <th>chlorides</th>\n",
              "      <th>free sulfur dioxide</th>\n",
              "      <th>total sulfur dioxide</th>\n",
              "      <th>density</th>\n",
              "      <th>pH</th>\n",
              "      <th>sulphates</th>\n",
              "      <th>alcohol</th>\n",
              "      <th>quality</th>\n",
              "    </tr>\n",
              "  </thead>\n",
              "  <tbody>\n",
              "    <tr>\n",
              "      <th>0</th>\n",
              "      <td>7.4</td>\n",
              "      <td>0.700</td>\n",
              "      <td>0.00</td>\n",
              "      <td>1.9</td>\n",
              "      <td>0.076</td>\n",
              "      <td>11.0</td>\n",
              "      <td>34.0</td>\n",
              "      <td>0.99780</td>\n",
              "      <td>3.51</td>\n",
              "      <td>0.56</td>\n",
              "      <td>9.4</td>\n",
              "      <td>5</td>\n",
              "    </tr>\n",
              "    <tr>\n",
              "      <th>1</th>\n",
              "      <td>7.8</td>\n",
              "      <td>0.880</td>\n",
              "      <td>0.00</td>\n",
              "      <td>2.6</td>\n",
              "      <td>0.098</td>\n",
              "      <td>25.0</td>\n",
              "      <td>67.0</td>\n",
              "      <td>0.99680</td>\n",
              "      <td>3.20</td>\n",
              "      <td>0.68</td>\n",
              "      <td>9.8</td>\n",
              "      <td>5</td>\n",
              "    </tr>\n",
              "    <tr>\n",
              "      <th>2</th>\n",
              "      <td>7.8</td>\n",
              "      <td>0.760</td>\n",
              "      <td>0.04</td>\n",
              "      <td>2.3</td>\n",
              "      <td>0.092</td>\n",
              "      <td>15.0</td>\n",
              "      <td>54.0</td>\n",
              "      <td>0.99700</td>\n",
              "      <td>3.26</td>\n",
              "      <td>0.65</td>\n",
              "      <td>9.8</td>\n",
              "      <td>5</td>\n",
              "    </tr>\n",
              "    <tr>\n",
              "      <th>3</th>\n",
              "      <td>11.2</td>\n",
              "      <td>0.280</td>\n",
              "      <td>0.56</td>\n",
              "      <td>1.9</td>\n",
              "      <td>0.075</td>\n",
              "      <td>17.0</td>\n",
              "      <td>60.0</td>\n",
              "      <td>0.99800</td>\n",
              "      <td>3.16</td>\n",
              "      <td>0.58</td>\n",
              "      <td>9.8</td>\n",
              "      <td>6</td>\n",
              "    </tr>\n",
              "    <tr>\n",
              "      <th>4</th>\n",
              "      <td>7.4</td>\n",
              "      <td>0.700</td>\n",
              "      <td>0.00</td>\n",
              "      <td>1.9</td>\n",
              "      <td>0.076</td>\n",
              "      <td>11.0</td>\n",
              "      <td>34.0</td>\n",
              "      <td>0.99780</td>\n",
              "      <td>3.51</td>\n",
              "      <td>0.56</td>\n",
              "      <td>9.4</td>\n",
              "      <td>5</td>\n",
              "    </tr>\n",
              "    <tr>\n",
              "      <th>...</th>\n",
              "      <td>...</td>\n",
              "      <td>...</td>\n",
              "      <td>...</td>\n",
              "      <td>...</td>\n",
              "      <td>...</td>\n",
              "      <td>...</td>\n",
              "      <td>...</td>\n",
              "      <td>...</td>\n",
              "      <td>...</td>\n",
              "      <td>...</td>\n",
              "      <td>...</td>\n",
              "      <td>...</td>\n",
              "    </tr>\n",
              "    <tr>\n",
              "      <th>1594</th>\n",
              "      <td>6.2</td>\n",
              "      <td>0.600</td>\n",
              "      <td>0.08</td>\n",
              "      <td>2.0</td>\n",
              "      <td>0.090</td>\n",
              "      <td>32.0</td>\n",
              "      <td>44.0</td>\n",
              "      <td>0.99490</td>\n",
              "      <td>3.45</td>\n",
              "      <td>0.58</td>\n",
              "      <td>10.5</td>\n",
              "      <td>5</td>\n",
              "    </tr>\n",
              "    <tr>\n",
              "      <th>1595</th>\n",
              "      <td>5.9</td>\n",
              "      <td>0.550</td>\n",
              "      <td>0.10</td>\n",
              "      <td>2.2</td>\n",
              "      <td>0.062</td>\n",
              "      <td>39.0</td>\n",
              "      <td>51.0</td>\n",
              "      <td>0.99512</td>\n",
              "      <td>3.52</td>\n",
              "      <td>0.76</td>\n",
              "      <td>11.2</td>\n",
              "      <td>6</td>\n",
              "    </tr>\n",
              "    <tr>\n",
              "      <th>1596</th>\n",
              "      <td>6.3</td>\n",
              "      <td>0.510</td>\n",
              "      <td>0.13</td>\n",
              "      <td>2.3</td>\n",
              "      <td>0.076</td>\n",
              "      <td>29.0</td>\n",
              "      <td>40.0</td>\n",
              "      <td>0.99574</td>\n",
              "      <td>3.42</td>\n",
              "      <td>0.75</td>\n",
              "      <td>11.0</td>\n",
              "      <td>6</td>\n",
              "    </tr>\n",
              "    <tr>\n",
              "      <th>1597</th>\n",
              "      <td>5.9</td>\n",
              "      <td>0.645</td>\n",
              "      <td>0.12</td>\n",
              "      <td>2.0</td>\n",
              "      <td>0.075</td>\n",
              "      <td>32.0</td>\n",
              "      <td>44.0</td>\n",
              "      <td>0.99547</td>\n",
              "      <td>3.57</td>\n",
              "      <td>0.71</td>\n",
              "      <td>10.2</td>\n",
              "      <td>5</td>\n",
              "    </tr>\n",
              "    <tr>\n",
              "      <th>1598</th>\n",
              "      <td>6.0</td>\n",
              "      <td>0.310</td>\n",
              "      <td>0.47</td>\n",
              "      <td>3.6</td>\n",
              "      <td>0.067</td>\n",
              "      <td>18.0</td>\n",
              "      <td>42.0</td>\n",
              "      <td>0.99549</td>\n",
              "      <td>3.39</td>\n",
              "      <td>0.66</td>\n",
              "      <td>11.0</td>\n",
              "      <td>6</td>\n",
              "    </tr>\n",
              "  </tbody>\n",
              "</table>\n",
              "<p>1599 rows × 12 columns</p>\n",
              "</div>"
            ],
            "text/plain": [
              "      fixed acidity  volatile acidity  citric acid  ...  sulphates  alcohol  quality\n",
              "0               7.4             0.700         0.00  ...       0.56      9.4        5\n",
              "1               7.8             0.880         0.00  ...       0.68      9.8        5\n",
              "2               7.8             0.760         0.04  ...       0.65      9.8        5\n",
              "3              11.2             0.280         0.56  ...       0.58      9.8        6\n",
              "4               7.4             0.700         0.00  ...       0.56      9.4        5\n",
              "...             ...               ...          ...  ...        ...      ...      ...\n",
              "1594            6.2             0.600         0.08  ...       0.58     10.5        5\n",
              "1595            5.9             0.550         0.10  ...       0.76     11.2        6\n",
              "1596            6.3             0.510         0.13  ...       0.75     11.0        6\n",
              "1597            5.9             0.645         0.12  ...       0.71     10.2        5\n",
              "1598            6.0             0.310         0.47  ...       0.66     11.0        6\n",
              "\n",
              "[1599 rows x 12 columns]"
            ]
          },
          "metadata": {
            "tags": []
          },
          "execution_count": 27
        }
      ]
    },
    {
      "cell_type": "code",
      "metadata": {
        "colab": {
          "base_uri": "https://localhost:8080/"
        },
        "id": "Dx3vBSJmLQhO",
        "outputId": "7a920ead-37bc-4a11-9af3-400dc72645a6"
      },
      "source": [
        "# Notice every column's data is numeric \n",
        "\n",
        "# Calculate Mean\n",
        "red_col_names = red.columns\n",
        "vec_mean = np.zeros(red.shape[1])\n",
        "for i in red_col_names:\n",
        "  vec_mean[k] = red.loc[:, i].mean()\n",
        "  print('The ' + i +' mean is {:.2f}'.format(vec_mean[k]))"
      ],
      "execution_count": 45,
      "outputs": [
        {
          "output_type": "stream",
          "text": [
            "The fixed acidity mean is 8.32\n",
            "The volatile acidity mean is 0.53\n",
            "The citric acid mean is 0.27\n",
            "The residual sugar mean is 2.54\n",
            "The chlorides mean is 0.09\n",
            "The free sulfur dioxide mean is 15.87\n",
            "The total sulfur dioxide mean is 46.47\n",
            "The density mean is 1.00\n",
            "The pH mean is 3.31\n",
            "The sulphates mean is 0.66\n",
            "The alcohol mean is 10.42\n",
            "The quality mean is 5.64\n"
          ],
          "name": "stdout"
        }
      ]
    },
    {
      "cell_type": "code",
      "metadata": {
        "colab": {
          "base_uri": "https://localhost:8080/"
        },
        "id": "tJNmJrg7MNVp",
        "outputId": "95cb4dc9-70c9-4150-ec6e-cbd06f35e9cf"
      },
      "source": [
        "\n",
        "  \n"
      ],
      "execution_count": 39,
      "outputs": [
        {
          "output_type": "stream",
          "text": [
            "0        7.4\n",
            "1        7.8\n",
            "2        7.8\n",
            "3       11.2\n",
            "4        7.4\n",
            "        ... \n",
            "1594     6.2\n",
            "1595     5.9\n",
            "1596     6.3\n",
            "1597     5.9\n",
            "1598     6.0\n",
            "Name: fixed acidity, Length: 1599, dtype: float64\n",
            "0       0.700\n",
            "1       0.880\n",
            "2       0.760\n",
            "3       0.280\n",
            "4       0.700\n",
            "        ...  \n",
            "1594    0.600\n",
            "1595    0.550\n",
            "1596    0.510\n",
            "1597    0.645\n",
            "1598    0.310\n",
            "Name: volatile acidity, Length: 1599, dtype: float64\n",
            "0       0.00\n",
            "1       0.00\n",
            "2       0.04\n",
            "3       0.56\n",
            "4       0.00\n",
            "        ... \n",
            "1594    0.08\n",
            "1595    0.10\n",
            "1596    0.13\n",
            "1597    0.12\n",
            "1598    0.47\n",
            "Name: citric acid, Length: 1599, dtype: float64\n",
            "0       1.9\n",
            "1       2.6\n",
            "2       2.3\n",
            "3       1.9\n",
            "4       1.9\n",
            "       ... \n",
            "1594    2.0\n",
            "1595    2.2\n",
            "1596    2.3\n",
            "1597    2.0\n",
            "1598    3.6\n",
            "Name: residual sugar, Length: 1599, dtype: float64\n",
            "0       0.076\n",
            "1       0.098\n",
            "2       0.092\n",
            "3       0.075\n",
            "4       0.076\n",
            "        ...  \n",
            "1594    0.090\n",
            "1595    0.062\n",
            "1596    0.076\n",
            "1597    0.075\n",
            "1598    0.067\n",
            "Name: chlorides, Length: 1599, dtype: float64\n",
            "0       11.0\n",
            "1       25.0\n",
            "2       15.0\n",
            "3       17.0\n",
            "4       11.0\n",
            "        ... \n",
            "1594    32.0\n",
            "1595    39.0\n",
            "1596    29.0\n",
            "1597    32.0\n",
            "1598    18.0\n",
            "Name: free sulfur dioxide, Length: 1599, dtype: float64\n",
            "0       34.0\n",
            "1       67.0\n",
            "2       54.0\n",
            "3       60.0\n",
            "4       34.0\n",
            "        ... \n",
            "1594    44.0\n",
            "1595    51.0\n",
            "1596    40.0\n",
            "1597    44.0\n",
            "1598    42.0\n",
            "Name: total sulfur dioxide, Length: 1599, dtype: float64\n",
            "0       0.99780\n",
            "1       0.99680\n",
            "2       0.99700\n",
            "3       0.99800\n",
            "4       0.99780\n",
            "         ...   \n",
            "1594    0.99490\n",
            "1595    0.99512\n",
            "1596    0.99574\n",
            "1597    0.99547\n",
            "1598    0.99549\n",
            "Name: density, Length: 1599, dtype: float64\n",
            "0       3.51\n",
            "1       3.20\n",
            "2       3.26\n",
            "3       3.16\n",
            "4       3.51\n",
            "        ... \n",
            "1594    3.45\n",
            "1595    3.52\n",
            "1596    3.42\n",
            "1597    3.57\n",
            "1598    3.39\n",
            "Name: pH, Length: 1599, dtype: float64\n",
            "0       0.56\n",
            "1       0.68\n",
            "2       0.65\n",
            "3       0.58\n",
            "4       0.56\n",
            "        ... \n",
            "1594    0.58\n",
            "1595    0.76\n",
            "1596    0.75\n",
            "1597    0.71\n",
            "1598    0.66\n",
            "Name: sulphates, Length: 1599, dtype: float64\n",
            "0        9.4\n",
            "1        9.8\n",
            "2        9.8\n",
            "3        9.8\n",
            "4        9.4\n",
            "        ... \n",
            "1594    10.5\n",
            "1595    11.2\n",
            "1596    11.0\n",
            "1597    10.2\n",
            "1598    11.0\n",
            "Name: alcohol, Length: 1599, dtype: float64\n",
            "0       5\n",
            "1       5\n",
            "2       5\n",
            "3       6\n",
            "4       5\n",
            "       ..\n",
            "1594    5\n",
            "1595    6\n",
            "1596    6\n",
            "1597    5\n",
            "1598    6\n",
            "Name: quality, Length: 1599, dtype: int64\n"
          ],
          "name": "stdout"
        }
      ]
    },
    {
      "cell_type": "code",
      "metadata": {
        "colab": {
          "base_uri": "https://localhost:8080/"
        },
        "id": "rRSWQO-SN6dR",
        "outputId": "e95f80f0-d51a-4b34-bb46-83d956a08037"
      },
      "source": [
        ""
      ],
      "execution_count": 41,
      "outputs": [
        {
          "output_type": "execute_result",
          "data": {
            "text/plain": [
              "8.319637273295838"
            ]
          },
          "metadata": {
            "tags": []
          },
          "execution_count": 41
        }
      ]
    }
  ]
}